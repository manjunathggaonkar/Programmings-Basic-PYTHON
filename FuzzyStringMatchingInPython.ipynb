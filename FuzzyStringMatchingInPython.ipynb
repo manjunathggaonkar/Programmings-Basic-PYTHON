{
  "nbformat": 4,
  "nbformat_minor": 0,
  "metadata": {
    "colab": {
      "name": "FuzzyStringMatchingInPython.ipynb",
      "provenance": [],
      "authorship_tag": "ABX9TyPFFRC/R5eGMoN1MCyzkkJD",
      "include_colab_link": true
    },
    "kernelspec": {
      "name": "python3",
      "display_name": "Python 3"
    },
    "language_info": {
      "name": "python"
    }
  },
  "cells": [
    {
      "cell_type": "markdown",
      "metadata": {
        "id": "view-in-github",
        "colab_type": "text"
      },
      "source": [
        "<a href=\"https://colab.research.google.com/github/manjunathggaonkar/Programmings-Basic-PYTHON/blob/manjunathggaonkar-patch-1/FuzzyStringMatchingInPython.ipynb\" target=\"_parent\"><img src=\"https://colab.research.google.com/assets/colab-badge.svg\" alt=\"Open In Colab\"/></a>"
      ]
    },
    {
      "cell_type": "code",
      "metadata": {
        "colab": {
          "base_uri": "https://localhost:8080/"
        },
        "id": "d0JXdKjgV7oQ",
        "outputId": "907027e6-4583-4307-9ca2-7e4bb8a652a1"
      },
      "source": [
        "#Comparing Strings in Python\n",
        "String1 = \"Barak\"\n",
        "String2 = \"Book\"\n",
        "Result = String1 == String2\n",
        "print(Result)"
      ],
      "execution_count": 3,
      "outputs": [
        {
          "output_type": "stream",
          "name": "stdout",
          "text": [
            "False\n"
          ]
        }
      ]
    },
    {
      "cell_type": "code",
      "metadata": {
        "colab": {
          "base_uri": "https://localhost:8080/"
        },
        "id": "eFPCEpb2Wj90",
        "outputId": "15d9a186-94ae-4e80-ad46-6f431d56883e"
      },
      "source": [
        "#Levenshtein distance in Python\n",
        "!pip install Levenshtein\n",
        "import Levenshtein as lev\n",
        "String1 = \"Barack\"\n",
        "String2 = \"Back\"\n",
        "lev.distance(String1.lower(),String2.lower())\n"
      ],
      "execution_count": 8,
      "outputs": [
        {
          "output_type": "stream",
          "name": "stdout",
          "text": [
            "Collecting Levenshtein\n",
            "  Downloading Levenshtein-0.15.0-cp37-cp37m-manylinux2010_x86_64.whl (110 kB)\n",
            "\u001b[K     |████████████████████████████████| 110 kB 5.1 MB/s \n",
            "\u001b[?25hCollecting rapidfuzz<1.7,>=1.5.1\n",
            "  Downloading rapidfuzz-1.6.2-cp37-cp37m-manylinux_2_5_x86_64.manylinux1_x86_64.manylinux_2_12_x86_64.manylinux2010_x86_64.whl (2.0 MB)\n",
            "\u001b[K     |████████████████████████████████| 2.0 MB 37.4 MB/s \n",
            "\u001b[?25hRequirement already satisfied: numpy in /usr/local/lib/python3.7/dist-packages (from rapidfuzz<1.7,>=1.5.1->Levenshtein) (1.19.5)\n",
            "Installing collected packages: rapidfuzz, Levenshtein\n",
            "Successfully installed Levenshtein-0.15.0 rapidfuzz-1.6.2\n"
          ]
        },
        {
          "output_type": "execute_result",
          "data": {
            "text/plain": [
              "2"
            ]
          },
          "metadata": {},
          "execution_count": 8
        }
      ]
    },
    {
      "cell_type": "code",
      "metadata": {
        "colab": {
          "base_uri": "https://localhost:8080/"
        },
        "id": "X73CgxiVW50q",
        "outputId": "eb918017-0350-4be2-bae9-bd71f284188c"
      },
      "source": [
        "#FuzzyWuzzy in Python\n",
        "!pip install fuzzywuzzy"
      ],
      "execution_count": 10,
      "outputs": [
        {
          "output_type": "stream",
          "name": "stdout",
          "text": [
            "Collecting fuzzywuzzy\n",
            "  Downloading fuzzywuzzy-0.18.0-py2.py3-none-any.whl (18 kB)\n",
            "Installing collected packages: fuzzywuzzy\n",
            "Successfully installed fuzzywuzzy-0.18.0\n"
          ]
        }
      ]
    },
    {
      "cell_type": "code",
      "metadata": {
        "colab": {
          "base_uri": "https://localhost:8080/"
        },
        "id": "W4c6CruNXuex",
        "outputId": "68e2fdef-9c85-4896-98c2-69c16520aeee"
      },
      "source": [
        "from fuzzywuzzy import fuzz\n",
        "String1 = \"Back\"\n",
        "String2 = \"Book\"\n",
        "Ratio = fuzz.ratio(String1.lower(),String2.lower())\n",
        "print(Ratio)"
      ],
      "execution_count": 12,
      "outputs": [
        {
          "output_type": "stream",
          "name": "stdout",
          "text": [
            "50\n"
          ]
        }
      ]
    },
    {
      "cell_type": "code",
      "metadata": {
        "colab": {
          "base_uri": "https://localhost:8080/"
        },
        "id": "L3RbUvvuYK2g",
        "outputId": "4024768d-44cd-41f8-87b7-979aa5bd3788"
      },
      "source": [
        "#Partial Ratio using FuzzyWuzzy\n",
        "from fuzzywuzzy import fuzz\n",
        "s1 = \"The person name is Manjunath\"\n",
        "s2 = \"Manjunath is the person name\"\n",
        "print(fuzz.partial_ratio(s1.lower(),s2.lower()))"
      ],
      "execution_count": 13,
      "outputs": [
        {
          "output_type": "stream",
          "name": "stdout",
          "text": [
            "55\n"
          ]
        }
      ]
    },
    {
      "cell_type": "code",
      "metadata": {
        "colab": {
          "base_uri": "https://localhost:8080/"
        },
        "id": "GnZylp_jYtci",
        "outputId": "e2d0b94a-d6c0-4434-df02-a1d6d7fad54f"
      },
      "source": [
        "#Token Sort Ratio using FuzzyWuzzy\n",
        "from fuzzywuzzy import fuzz\n",
        "s1 = \"The person name is Manjunath\"\n",
        "s2 = \"Manjunath is the person name\"\n",
        "print(fuzz.token_sort_ratio(s1.lower(),s2.lower()))"
      ],
      "execution_count": 16,
      "outputs": [
        {
          "output_type": "stream",
          "name": "stdout",
          "text": [
            "100\n"
          ]
        }
      ]
    },
    {
      "cell_type": "code",
      "metadata": {
        "colab": {
          "base_uri": "https://localhost:8080/"
        },
        "id": "jekc2jJlY99C",
        "outputId": "0f8d9e01-fc06-4de5-feec-714d00510379"
      },
      "source": [
        "#Token Set Ratio using FuzzyWuzzy\n",
        "from fuzzywuzzy import fuzz\n",
        "s1 = \"The person name is Manjunath\"\n",
        "s2 = \"Manjunath is the person name name\"\n",
        "print(fuzz.token_sort_ratio(s1.lower(),s2.lower()))\n",
        "print(fuzz.token_set_ratio(s1.lower(),s2.lower()))"
      ],
      "execution_count": 19,
      "outputs": [
        {
          "output_type": "stream",
          "name": "stdout",
          "text": [
            "92\n",
            "100\n"
          ]
        }
      ]
    },
    {
      "cell_type": "code",
      "metadata": {
        "colab": {
          "base_uri": "https://localhost:8080/"
        },
        "id": "LNJ-0cllmkmU",
        "outputId": "bfc8d930-2218-4ad9-a36e-81fdbe2f196b"
      },
      "source": [
        "#Token Set Ratio using FuzzyWuzzy for deeper understanding\n",
        "StringA = 'Read the sentence - My name is Manjunath'\n",
        "StringB = 'My name is Manjunath'\n",
        "ratio = fuzz.token_set_ratio(StringA, StringB)\n",
        "print(ratio)"
      ],
      "execution_count": 20,
      "outputs": [
        {
          "output_type": "stream",
          "name": "stdout",
          "text": [
            "100\n"
          ]
        }
      ]
    },
    {
      "cell_type": "code",
      "metadata": {
        "colab": {
          "base_uri": "https://localhost:8080/"
        },
        "id": "09QLUqqenPdd",
        "outputId": "fc1c6c78-8c36-4377-a779-6399bdd35b5f"
      },
      "source": [
        "# Process Module using FuzzyWuzzy\n",
        "from fuzzywuzzy import process\n",
        "a = 'My name is Manjunath'\n",
        "c = ['My name is Manjunath', 'My name is Manjunath', 'My Manjunath']\n",
        "# Get a list of matches ordered by score, default limit to 5\n",
        "process.extract(a, c)"
      ],
      "execution_count": 22,
      "outputs": [
        {
          "output_type": "execute_result",
          "data": {
            "text/plain": [
              "[('My name is Manjunath', 100),\n",
              " ('My name is Manjunath', 100),\n",
              " ('My Manjunath', 86)]"
            ]
          },
          "metadata": {},
          "execution_count": 22
        }
      ]
    },
    {
      "cell_type": "code",
      "metadata": {
        "colab": {
          "base_uri": "https://localhost:8080/"
        },
        "id": "sOGQaAZRoDYN",
        "outputId": "67e09366-4a12-40d0-fe54-45dde032f435"
      },
      "source": [
        "# If we want to extract out the top match, we can run the following code:\n",
        "process.extractOne(a, c)"
      ],
      "execution_count": 23,
      "outputs": [
        {
          "output_type": "execute_result",
          "data": {
            "text/plain": [
              "('My name is Manjunath', 100)"
            ]
          },
          "metadata": {},
          "execution_count": 23
        }
      ]
    }
  ]
}