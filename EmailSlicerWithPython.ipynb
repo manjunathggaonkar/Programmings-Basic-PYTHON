{
  "nbformat": 4,
  "nbformat_minor": 0,
  "metadata": {
    "colab": {
      "name": "EmailSlicerWithPython.ipynb",
      "provenance": [],
      "authorship_tag": "ABX9TyPxNZVH84w03ErBSqG5qg2F",
      "include_colab_link": true
    },
    "kernelspec": {
      "name": "python3",
      "display_name": "Python 3"
    }
  },
  "cells": [
    {
      "cell_type": "markdown",
      "metadata": {
        "id": "view-in-github",
        "colab_type": "text"
      },
      "source": [
        "<a href=\"https://colab.research.google.com/github/manjunathggaonkar/Programmings-Basic-PYTHON/blob/master/EmailSlicerWithPython.ipynb\" target=\"_parent\"><img src=\"https://colab.research.google.com/assets/colab-badge.svg\" alt=\"Open In Colab\"/></a>"
      ]
    },
    {
      "cell_type": "code",
      "metadata": {
        "colab": {
          "base_uri": "https://localhost:8080/"
        },
        "id": "RWGk4t94vDIR",
        "outputId": "1f9e6cd7-59b2-4673-8593-2a2b916c145a"
      },
      "source": [
        "\r\n",
        "email = input(\"Enter Your Email: \").strip()"
      ],
      "execution_count": 1,
      "outputs": [
        {
          "output_type": "stream",
          "text": [
            "Enter Your Email: xyzft@gmail.com\n"
          ],
          "name": "stdout"
        }
      ]
    },
    {
      "cell_type": "code",
      "metadata": {
        "colab": {
          "base_uri": "https://localhost:8080/"
        },
        "id": "PZ8gclN_vNx5",
        "outputId": "1c0bc5c5-19b2-4e46-b20d-a903478292ac"
      },
      "source": [
        "username = email[:email.index(\"@\")]\r\n",
        "domain_name = email[email.index(\"@\")+1:]\r\n",
        "format_1 = (f\"Your user name is '{username}' and your domain is '{domain_name}'\")\r\n",
        "print(format_1)"
      ],
      "execution_count": 3,
      "outputs": [
        {
          "output_type": "stream",
          "text": [
            "Your user name is 'xyzft' and your domain is 'gmail.com'\n"
          ],
          "name": "stdout"
        }
      ]
    }
  ]
}