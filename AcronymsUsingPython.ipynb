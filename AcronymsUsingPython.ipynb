{
  "nbformat": 4,
  "nbformat_minor": 0,
  "metadata": {
    "colab": {
      "name": "AcronymsUsingPython.ipynb",
      "provenance": [],
      "authorship_tag": "ABX9TyNgkRIQInKxV434RiazaGFX",
      "include_colab_link": true
    },
    "kernelspec": {
      "name": "python3",
      "display_name": "Python 3"
    }
  },
  "cells": [
    {
      "cell_type": "markdown",
      "metadata": {
        "id": "view-in-github",
        "colab_type": "text"
      },
      "source": [
        "<a href=\"https://colab.research.google.com/github/manjunathggaonkar/Programmings-Basic-PYTHON/blob/master/AcronymsUsingPython.ipynb\" target=\"_parent\"><img src=\"https://colab.research.google.com/assets/colab-badge.svg\" alt=\"Open In Colab\"/></a>"
      ]
    },
    {
      "cell_type": "code",
      "metadata": {
        "colab": {
          "base_uri": "https://localhost:8080/"
        },
        "id": "BYbwkI01sX_D",
        "outputId": "a69d1020-7942-4340-bb5d-5ff9da5e1884"
      },
      "source": [
        "\r\n",
        "user_input = str(input(\"Enter a Phrase: \"))"
      ],
      "execution_count": 3,
      "outputs": [
        {
          "output_type": "stream",
          "text": [
            "Enter a Phrase: ad the king\n"
          ],
          "name": "stdout"
        }
      ]
    },
    {
      "cell_type": "code",
      "metadata": {
        "id": "dKpsUmwYslWD"
      },
      "source": [
        "text = user_input.split()"
      ],
      "execution_count": 5,
      "outputs": []
    },
    {
      "cell_type": "code",
      "metadata": {
        "colab": {
          "base_uri": "https://localhost:8080/"
        },
        "id": "hFaXXsOds75C",
        "outputId": "7451ab50-993e-48ea-c3c7-778ed48e137b"
      },
      "source": [
        "a = \" \"\r\n",
        "for i in text:\r\n",
        "    a = a+str(i[0]).upper()\r\n",
        "print(a)"
      ],
      "execution_count": 7,
      "outputs": [
        {
          "output_type": "stream",
          "text": [
            " ATK\n"
          ],
          "name": "stdout"
        }
      ]
    }
  ]
}