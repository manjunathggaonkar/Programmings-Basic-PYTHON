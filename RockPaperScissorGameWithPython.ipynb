{
  "nbformat": 4,
  "nbformat_minor": 0,
  "metadata": {
    "colab": {
      "name": "RockPaperScissorGameWithPython.ipynb",
      "provenance": [],
      "authorship_tag": "ABX9TyOp9k+i6O+nV3pK4LiTA5CL",
      "include_colab_link": true
    },
    "kernelspec": {
      "name": "python3",
      "display_name": "Python 3"
    }
  },
  "cells": [
    {
      "cell_type": "markdown",
      "metadata": {
        "id": "view-in-github",
        "colab_type": "text"
      },
      "source": [
        "<a href=\"https://colab.research.google.com/github/manjunathggaonkar/Programmings-Basic-PYTHON/blob/master/RockPaperScissorGameWithPython.ipynb\" target=\"_parent\"><img src=\"https://colab.research.google.com/assets/colab-badge.svg\" alt=\"Open In Colab\"/></a>"
      ]
    },
    {
      "cell_type": "code",
      "metadata": {
        "colab": {
          "base_uri": "https://localhost:8080/"
        },
        "id": "ft_bDVx7wpr4",
        "outputId": "dcced28f-5e9a-41de-ad0a-cca9b1e3ac81"
      },
      "source": [
        "import random\r\n",
        "choices = [\"Rock\", \"Paper\", \"Scissors\"]\r\n",
        "computer = random.choice(choices)\r\n",
        "player = False\r\n",
        "cpu_score = 0\r\n",
        "player_score = 0\r\n",
        "while True:\r\n",
        "    player = input(\"Rock, Paper or  Scissors?\").capitalize()\r\n",
        "    ## Conditions of Rock,Paper and Scissors\r\n",
        "    if player == computer:\r\n",
        "        print(\"Tie!\")\r\n",
        "    elif player == \"Rock\":\r\n",
        "        if computer == \"Paper\":\r\n",
        "            print(\"You lose!\", computer, \"covers\", player)\r\n",
        "            cpu_score+=1\r\n",
        "        else:\r\n",
        "            print(\"You win!\", player, \"smashes\", computer)\r\n",
        "            player_score+=1\r\n",
        "    elif player == \"Paper\":\r\n",
        "        if computer == \"Scissors\":\r\n",
        "            print(\"You lose!\", computer, \"cut\", player)\r\n",
        "            cpu_score+=1\r\n",
        "        else:\r\n",
        "            print(\"You win!\", player, \"covers\", computer)\r\n",
        "            player_score+=1\r\n",
        "    elif player == \"Scissors\":\r\n",
        "        if computer == \"Rock\":\r\n",
        "            print(\"You lose...\", computer, \"smashes\", player)\r\n",
        "            cpu_score+=1\r\n",
        "        else:\r\n",
        "            print(\"You win!\", player, \"cut\", computer)\r\n",
        "            player_score+=1\r\n",
        "    elif player=='End':\r\n",
        "        print(\"Final Scores:\")\r\n",
        "        print(f\"CPU:{cpu_score}\")\r\n",
        "        print(f\"Plaer:{player_score}\")\r\n",
        "        brea"
      ],
      "execution_count": null,
      "outputs": [
        {
          "output_type": "stream",
          "text": [
            "Rock, Paper or  Scissors?rock\n",
            "You win! Rock smashes Scissors\n",
            "Rock, Paper or  Scissors?paper\n",
            "You lose! Scissors cut Paper\n",
            "Rock, Paper or  Scissors?scissors\n",
            "Tie!\n",
            "Rock, Paper or  Scissors?rock\n",
            "You win! Rock smashes Scissors\n",
            "Rock, Paper or  Scissors?scissors\n",
            "Tie!\n"
          ],
          "name": "stdout"
        }
      ]
    }
  ]
}